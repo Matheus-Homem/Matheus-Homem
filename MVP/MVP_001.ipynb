{
  "nbformat": 4,
  "nbformat_minor": 0,
  "metadata": {
    "colab": {
      "provenance": [],
      "authorship_tag": "ABX9TyPMtibkv+74Emw79uw6yCT0"
    },
    "kernelspec": {
      "name": "python3",
      "display_name": "Python 3"
    },
    "language_info": {
      "name": "python"
    }
  },
  "cells": [
    {
      "cell_type": "code",
      "execution_count": null,
      "metadata": {
        "id": "G1XahF2YV2rO"
      },
      "outputs": [],
      "source": []
    }
  ]
}
